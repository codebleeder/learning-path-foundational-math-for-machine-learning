{
 "cells": [
  {
   "cell_type": "markdown",
   "id": "e78be21e",
   "metadata": {},
   "source": [
    "# 2 Vectors Basics\n",
    "\n",
    "## Introduction to vectors\n",
    "\n",
    "### Scalars \n",
    "* Scalars denote numbers \n",
    "* denoted by lowercase symbols like a, b \n",
    "* ex: denote weight, temp, blood pressure etc\n",
    "\n",
    "### Vectors\n",
    "* Vector is an ordered list of numbers \n",
    "* denoted by bolded roman letters, have arrow on top\n",
    "* ex: $\\vec{v}$\n",
    "* 2 characterstics: \n",
    "  * dimensionality: the number of elements in the vector\n",
    "  * orientation: column orientation or row orientation"
   ]
  },
  {
   "cell_type": "code",
   "execution_count": null,
   "id": "f8de8ee3",
   "metadata": {},
   "outputs": [],
   "source": [
    "import numpy as np\n",
    "vectorAsArray = np.array([1,2,3,4,5]) # neither a row nor a column vector\n",
    "\n",
    "# row vector - 5D row vector\n",
    "rowVector = np.array([[1,2,3,4,5]])\n",
    "\n",
    "# column vector - 5D column vector\n",
    "columnVector = np.array([[1], [2], [3], [4], [5]])"
   ]
  },
  {
   "cell_type": "markdown",
   "id": "46a6db48",
   "metadata": {},
   "source": [
    "## Vector arithmetic\n",
    "\n",
    "## Addition and Subtraction\n",
    "* They should have the same dimensions"
   ]
  },
  {
   "cell_type": "code",
   "execution_count": 6,
   "id": "66e2e329",
   "metadata": {},
   "outputs": [
    {
     "name": "stdout",
     "output_type": "stream",
     "text": [
      "[30 60 90]\n",
      "[10 20 30]\n",
      "[ 200  800 1800]\n",
      "[2. 2. 2.]\n",
      "[ 40  80 120]\n"
     ]
    }
   ],
   "source": [
    "import numpy as np\n",
    "\n",
    "a = np.array([20, 40, 60])\n",
    "b = np.array([10, 20, 30])\n",
    "c = np.array([5, 10, 15, 20]) # a and c have different dimensions - so cannot be added or subtracted\n",
    "\n",
    "# Addition\n",
    "print(a + b)\n",
    "\n",
    "# Subtraction\n",
    "print(a - b)\n",
    "\n",
    "# multiplication\n",
    "print(a * b)\n",
    "\n",
    "# division\n",
    "print(a / b)\n",
    "\n",
    "scalar = 2\n",
    "print(scalar * a)\n"
   ]
  }
 ],
 "metadata": {
  "kernelspec": {
   "display_name": ".venv",
   "language": "python",
   "name": "python3"
  },
  "language_info": {
   "codemirror_mode": {
    "name": "ipython",
    "version": 3
   },
   "file_extension": ".py",
   "mimetype": "text/x-python",
   "name": "python",
   "nbconvert_exporter": "python",
   "pygments_lexer": "ipython3",
   "version": "3.13.1"
  }
 },
 "nbformat": 4,
 "nbformat_minor": 5
}
